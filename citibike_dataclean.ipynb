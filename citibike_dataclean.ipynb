{
 "cells": [
  {
   "cell_type": "code",
   "execution_count": 1,
   "id": "b948a954",
   "metadata": {},
   "outputs": [],
   "source": [
    "import pandas as pd\n",
    "from pathlib import Path"
   ]
  },
  {
   "cell_type": "code",
   "execution_count": 2,
   "id": "9733aafe",
   "metadata": {},
   "outputs": [
    {
     "name": "stderr",
     "output_type": "stream",
     "text": [
      "/var/folders/12/_71rd99d1xbg_hwrktwq9qm00000gn/T/ipykernel_7615/3517297135.py:2: DtypeWarning: Columns (7) have mixed types. Specify dtype option on import or set low_memory=False.\n",
      "  march = pd.read_csv(march_csv)\n"
     ]
    }
   ],
   "source": [
    "march_csv = Path(\"citibike_2023_data/202303-citibike-tripdata.csv\")\n",
    "march = pd.read_csv(march_csv)\n",
    "march = march.dropna()\n",
    "\n",
    "march['start_station_name'] = march['start_station_name'].astype(\"string\")\n",
    "march['start_station_id'] = march['start_station_id'].astype(\"string\")\n",
    "march['end_station_name'] = march['end_station_name'].astype(\"string\")\n",
    "march['end_station_id'] = march['end_station_id'].astype(\"string\")"
   ]
  },
  {
   "cell_type": "code",
   "execution_count": 3,
   "id": "3664397a",
   "metadata": {},
   "outputs": [
    {
     "name": "stderr",
     "output_type": "stream",
     "text": [
      "/var/folders/12/_71rd99d1xbg_hwrktwq9qm00000gn/T/ipykernel_7615/3032295801.py:2: DtypeWarning: Columns (5,7) have mixed types. Specify dtype option on import or set low_memory=False.\n",
      "  july = pd.read_csv(july_csv)\n"
     ]
    }
   ],
   "source": [
    "july_csv = Path(\"citibike_2023_data/202307-citibike-tripdata.csv\")\n",
    "july = pd.read_csv(july_csv)\n",
    "july = july.dropna()\n",
    "\n",
    "july['start_station_name'] = july['start_station_name'].astype(\"string\")\n",
    "july['start_station_id'] = july['start_station_id'].astype(\"string\")\n",
    "july['end_station_name'] = july['end_station_name'].astype(\"string\")\n",
    "july['end_station_id'] = july['end_station_id'].astype(\"string\")"
   ]
  },
  {
   "cell_type": "code",
   "execution_count": 4,
   "id": "3d391cd5",
   "metadata": {},
   "outputs": [
    {
     "name": "stderr",
     "output_type": "stream",
     "text": [
      "/var/folders/12/_71rd99d1xbg_hwrktwq9qm00000gn/T/ipykernel_7615/3765157149.py:2: DtypeWarning: Columns (7) have mixed types. Specify dtype option on import or set low_memory=False.\n",
      "  november = pd.read_csv(november_csv)\n"
     ]
    }
   ],
   "source": [
    "november_csv = Path(\"citibike_2023_data/202311-citibike-tripdata.csv\")\n",
    "november = pd.read_csv(november_csv)\n",
    "november = november.dropna()\n",
    "\n",
    "november['start_station_name'] = november['start_station_name'].astype(\"string\")\n",
    "november['start_station_id'] = november['start_station_id'].astype(\"string\")\n",
    "november['end_station_name'] = november['end_station_name'].astype(\"string\")\n",
    "november['end_station_id'] = november['end_station_id'].astype(\"string\")"
   ]
  },
  {
   "cell_type": "code",
   "execution_count": 6,
   "id": "e53ceda7",
   "metadata": {},
   "outputs": [],
   "source": [
    "march_july = pd.merge(march, july, on=['ride_id', 'rideable_type', 'started_at', 'ended_at', 'start_station_name', 'start_station_id', 'end_station_name', 'end_station_id', 'start_lat', 'start_lng', 'end_lat', 'end_lng', 'member_casual'], how=\"outer\")"
   ]
  },
  {
   "cell_type": "code",
   "execution_count": 7,
   "id": "6cc3b072",
   "metadata": {},
   "outputs": [],
   "source": [
    "citibike_2023_final = pd.merge(march_july, november, on=['ride_id', 'rideable_type', 'started_at', 'ended_at', 'start_station_name', 'start_station_id', 'end_station_name', 'end_station_id', 'start_lat', 'start_lng', 'end_lat', 'end_lng', 'member_casual'], how=\"outer\")"
   ]
  },
  {
   "cell_type": "code",
   "execution_count": 8,
   "id": "7b4b226d",
   "metadata": {},
   "outputs": [],
   "source": [
    "filepath = Path('/Users/audreybarrett/Desktop/tableau_challenge/citibike_2023_final.csv') \n",
    "citibike_2023_final.to_csv(filepath)"
   ]
  }
 ],
 "metadata": {
  "kernelspec": {
   "display_name": "Python 3 (ipykernel)",
   "language": "python",
   "name": "python3"
  },
  "language_info": {
   "codemirror_mode": {
    "name": "ipython",
    "version": 3
   },
   "file_extension": ".py",
   "mimetype": "text/x-python",
   "name": "python",
   "nbconvert_exporter": "python",
   "pygments_lexer": "ipython3",
   "version": "3.11.4"
  }
 },
 "nbformat": 4,
 "nbformat_minor": 5
}
